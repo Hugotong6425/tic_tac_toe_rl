{
 "cells": [
  {
   "cell_type": "code",
   "execution_count": 1,
   "metadata": {},
   "outputs": [],
   "source": [
    "%load_ext autoreload\n",
    "%autoreload 2"
   ]
  },
  {
   "cell_type": "code",
   "execution_count": 4,
   "metadata": {},
   "outputs": [],
   "source": [
    "from py_files.board_with_player_interaction import Board\n",
    "#from py_files.player import Human, Random_player"
   ]
  },
  {
   "cell_type": "code",
   "execution_count": 5,
   "metadata": {},
   "outputs": [],
   "source": [
    "\n",
    "p1_config = {'player_type': 'human'}\n",
    "p2_config = {'player_type': 'human'}\n",
    "win_reward = 1\n",
    "lose_reward = -1\n",
    "draw_reward = 0\n",
    "\n",
    "test_board = Board(p1_config=p1_config, p2_config=p2_config, \n",
    "                   win_reward=win_reward, lose_reward=lose_reward, \n",
    "                   draw_reward=draw_reward)"
   ]
  },
  {
   "cell_type": "code",
   "execution_count": 6,
   "metadata": {},
   "outputs": [
    {
     "name": "stdout",
     "output_type": "stream",
     "text": [
      "Board:\n",
      "\n",
      "  |   |  \n",
      "---------\n",
      "  |   |  \n",
      "---------\n",
      "  |   |  \n"
     ]
    },
    {
     "data": {
      "text/plain": [
       "True"
      ]
     },
     "execution_count": 6,
     "metadata": {},
     "output_type": "execute_result"
    }
   ],
   "source": [
    "test_board.print_board()"
   ]
  },
  {
   "cell_type": "code",
   "execution_count": 7,
   "metadata": {},
   "outputs": [],
   "source": [
    "active_player = test_board.get_active_player_id()"
   ]
  },
  {
   "cell_type": "code",
   "execution_count": 8,
   "metadata": {},
   "outputs": [
    {
     "data": {
      "text/plain": [
       "1"
      ]
     },
     "execution_count": 8,
     "metadata": {},
     "output_type": "execute_result"
    }
   ],
   "source": [
    "active_player"
   ]
  },
  {
   "cell_type": "code",
   "execution_count": 6,
   "metadata": {},
   "outputs": [
    {
     "name": "stdout",
     "output_type": "stream",
     "text": [
      "Board:\n",
      "\n",
      "O |   |  \n",
      "---------\n",
      "  |   |  \n",
      "---------\n",
      "  |   |  \n",
      "\n",
      "reward: \n",
      "[0, 0]\n",
      "\n",
      "is_terminal_state: \n",
      "False\n",
      "\n",
      "current_player: -1\n",
      "\n"
     ]
    }
   ],
   "source": [
    "new_observation, reward, is_terminal_state = test_board.step(action=0)\n",
    "test_board.print_board()\n",
    "#print('new_observation: \\n%s' % new_observation)\n",
    "print('\\nreward: \\n%s\\n' % reward)\n",
    "print('is_terminal_state: \\n%s\\n' % is_terminal_state)\n",
    "print('current_player: %s\\n' % test_board.get_active_player_id())"
   ]
  },
  {
   "cell_type": "code",
   "execution_count": 7,
   "metadata": {},
   "outputs": [
    {
     "name": "stdout",
     "output_type": "stream",
     "text": [
      "Board:\n",
      "\n",
      "O |   |  \n",
      "---------\n",
      "X |   |  \n",
      "---------\n",
      "  |   |  \n",
      "\n",
      "reward: \n",
      "[0, 0]\n",
      "\n",
      "is_terminal_state: \n",
      "False\n",
      "\n",
      "current_player: 1\n",
      "\n"
     ]
    }
   ],
   "source": [
    "new_observation, reward, is_terminal_state = test_board.step(action=3)\n",
    "test_board.print_board()\n",
    "print('\\nreward: \\n%s\\n' % reward)\n",
    "print('is_terminal_state: \\n%s\\n' % is_terminal_state)\n",
    "print('current_player: %s\\n' % test_board.get_active_player_id())"
   ]
  },
  {
   "cell_type": "code",
   "execution_count": 8,
   "metadata": {},
   "outputs": [
    {
     "name": "stdout",
     "output_type": "stream",
     "text": [
      "Board:\n",
      "\n",
      "O | O |  \n",
      "---------\n",
      "X |   |  \n",
      "---------\n",
      "  |   |  \n",
      "\n",
      "reward: \n",
      "[0, 0]\n",
      "\n",
      "is_terminal_state: \n",
      "False\n",
      "\n",
      "current_player: -1\n",
      "\n"
     ]
    }
   ],
   "source": [
    "new_observation, reward, is_terminal_state = test_board.step(action=1)\n",
    "test_board.print_board()\n",
    "print('\\nreward: \\n%s\\n' % reward)\n",
    "print('is_terminal_state: \\n%s\\n' % is_terminal_state)\n",
    "print('current_player: %s\\n' % test_board.get_active_player_id())"
   ]
  },
  {
   "cell_type": "code",
   "execution_count": 9,
   "metadata": {},
   "outputs": [
    {
     "name": "stdout",
     "output_type": "stream",
     "text": [
      "Board:\n",
      "\n",
      "O | O |  \n",
      "---------\n",
      "X |   |  \n",
      "---------\n",
      "X |   |  \n",
      "\n",
      "reward: \n",
      "[0, 0]\n",
      "\n",
      "is_terminal_state: \n",
      "False\n",
      "\n",
      "current_player: 1\n",
      "\n"
     ]
    }
   ],
   "source": [
    "new_observation, reward, is_terminal_state = test_board.step(action=6)\n",
    "test_board.print_board()\n",
    "print('\\nreward: \\n%s\\n' % reward)\n",
    "print('is_terminal_state: \\n%s\\n' % is_terminal_state)\n",
    "print('current_player: %s\\n' % test_board.get_active_player_id())"
   ]
  },
  {
   "cell_type": "code",
   "execution_count": 10,
   "metadata": {},
   "outputs": [
    {
     "name": "stdout",
     "output_type": "stream",
     "text": [
      "Board:\n",
      "\n",
      "O | O | O\n",
      "---------\n",
      "X |   |  \n",
      "---------\n",
      "X |   |  \n",
      "\n",
      "reward: \n",
      "[1, -1]\n",
      "\n",
      "is_terminal_state: \n",
      "True\n",
      "\n",
      "current_player: -1\n",
      "\n"
     ]
    }
   ],
   "source": [
    "new_observation, reward, is_terminal_state = test_board.step(action=2)\n",
    "test_board.print_board()\n",
    "print('\\nreward: \\n%s\\n' % reward)\n",
    "print('is_terminal_state: \\n%s\\n' % is_terminal_state)\n",
    "print('current_player: %s\\n' % test_board.get_active_player_id())"
   ]
  },
  {
   "cell_type": "code",
   "execution_count": 11,
   "metadata": {},
   "outputs": [
    {
     "name": "stdout",
     "output_type": "stream",
     "text": [
      "Board:\n",
      "\n",
      "  |   |  \n",
      "---------\n",
      "  |   |  \n",
      "---------\n",
      "  |   |  \n"
     ]
    },
    {
     "data": {
      "text/plain": [
       "True"
      ]
     },
     "execution_count": 11,
     "metadata": {},
     "output_type": "execute_result"
    }
   ],
   "source": [
    "test_board.reset()\n",
    "test_board.print_board()"
   ]
  },
  {
   "cell_type": "code",
   "execution_count": null,
   "metadata": {},
   "outputs": [],
   "source": []
  }
 ],
 "metadata": {
  "kernelspec": {
   "display_name": "Python 3",
   "language": "python",
   "name": "python3"
  },
  "language_info": {
   "codemirror_mode": {
    "name": "ipython",
    "version": 3
   },
   "file_extension": ".py",
   "mimetype": "text/x-python",
   "name": "python",
   "nbconvert_exporter": "python",
   "pygments_lexer": "ipython3",
   "version": "3.7.3"
  }
 },
 "nbformat": 4,
 "nbformat_minor": 2
}

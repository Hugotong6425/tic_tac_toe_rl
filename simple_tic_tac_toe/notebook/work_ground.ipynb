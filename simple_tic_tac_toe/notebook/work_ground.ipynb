{
 "cells": [
  {
   "cell_type": "code",
   "execution_count": 1,
   "metadata": {},
   "outputs": [],
   "source": [
    "import numpy as np\n"
   ]
  },
  {
   "cell_type": "code",
   "execution_count": 8,
   "metadata": {},
   "outputs": [
    {
     "name": "stdout",
     "output_type": "stream",
     "text": [
      "[ 1 -1  0  0  0  0 -1 -1  1]\n",
      "[-1  1  0  0  0  0  1  1 -1]\n"
     ]
    }
   ],
   "source": [
    "import numpy as np\n",
    "\n",
    "\n",
    "def tune_observation_view(observation, player_id):\n",
    "    '''\n",
    "    player_id either 1 or -1. Swap the observation such that 1 means self and -1 means the opponent \n",
    "    e.g. \n",
    "    if player_id = 1, no need to swap the view,\n",
    "    input = array([1, -1, 0,\n",
    "                   0, 0, 0,\n",
    "                   -1, -1, 1])\n",
    "           \n",
    "    output = array([1, -1, 0,\n",
    "                    0, 0, 0,\n",
    "                    -1, -1, 1])\n",
    "                    \n",
    "    if player_id = -1, need to swap the view,\n",
    "    input = array([1, -1, 0,\n",
    "                   0, 0, 0,\n",
    "                   -1, -1, 1])\n",
    "           \n",
    "    output = array([-1, 1, 0,\n",
    "                    0, 0, 0,\n",
    "                    1, 1, -1])\n",
    "    \n",
    "    '''\n",
    "    return observation * player_id\n",
    "\n",
    "if True:\n",
    "    observation = np.array([1, -1, 0,\n",
    "                           0, 0, 0,\n",
    "                           -1, -1, 1])\n",
    "    a = tune_observation_view(observation, -1)\n",
    "    \n",
    "    print(observation)\n",
    "    print(a)"
   ]
  },
  {
   "cell_type": "code",
   "execution_count": 4,
   "metadata": {},
   "outputs": [
    {
     "ename": "SyntaxError",
     "evalue": "invalid syntax (<ipython-input-4-ab283bd9a1f2>, line 7)",
     "output_type": "error",
     "traceback": [
      "\u001b[0;36m  File \u001b[0;32m\"<ipython-input-4-ab283bd9a1f2>\"\u001b[0;36m, line \u001b[0;32m7\u001b[0m\n\u001b[0;31m    for each record:\u001b[0m\n\u001b[0m                  ^\u001b[0m\n\u001b[0;31mSyntaxError\u001b[0m\u001b[0;31m:\u001b[0m invalid syntax\n"
     ]
    }
   ],
   "source": [
    "def process_memory(memory, is_terminal_state):\n",
    "    if (len(memory) == memory_size + 1) and (is_terminal_state):\n",
    "        # special handle\n",
    "        pass\n",
    "    \n",
    "    # do all the shifting \n",
    "    for each record:\n",
    "        if player is 2:\n",
    "            swap observation, next_observation, reward\n",
    "        \n",
    "    pass"
   ]
  },
  {
   "cell_type": "code",
   "execution_count": 5,
   "metadata": {},
   "outputs": [
    {
     "ename": "NameError",
     "evalue": "name 'env' is not defined",
     "output_type": "error",
     "traceback": [
      "\u001b[0;31m---------------------------------------------------------------------------\u001b[0m",
      "\u001b[0;31mNameError\u001b[0m                                 Traceback (most recent call last)",
      "\u001b[0;32m<ipython-input-5-83b213627a81>\u001b[0m in \u001b[0;36m<module>\u001b[0;34m\u001b[0m\n\u001b[1;32m      1\u001b[0m \u001b[0mmemory\u001b[0m \u001b[0;34m=\u001b[0m \u001b[0mnp\u001b[0m\u001b[0;34m.\u001b[0m\u001b[0marray\u001b[0m\u001b[0;34m(\u001b[0m\u001b[0;34m[\u001b[0m\u001b[0;34m]\u001b[0m\u001b[0;34m)\u001b[0m\u001b[0;34m\u001b[0m\u001b[0;34m\u001b[0m\u001b[0m\n\u001b[1;32m      2\u001b[0m \u001b[0;34m\u001b[0m\u001b[0m\n\u001b[0;32m----> 3\u001b[0;31m \u001b[0mnext_observation\u001b[0m\u001b[0;34m,\u001b[0m \u001b[0mplayer_turn\u001b[0m\u001b[0;34m,\u001b[0m \u001b[0mreward\u001b[0m\u001b[0;34m,\u001b[0m \u001b[0mis_terminal_state\u001b[0m \u001b[0;34m=\u001b[0m \u001b[0menv\u001b[0m\u001b[0;34m.\u001b[0m\u001b[0mstep\u001b[0m\u001b[0;34m(\u001b[0m\u001b[0maction\u001b[0m\u001b[0;34m)\u001b[0m\u001b[0;34m\u001b[0m\u001b[0;34m\u001b[0m\u001b[0m\n\u001b[0m\u001b[1;32m      4\u001b[0m \u001b[0mmemory\u001b[0m\u001b[0;34m.\u001b[0m\u001b[0mappend\u001b[0m\u001b[0;34m(\u001b[0m\u001b[0;34m[\u001b[0m\u001b[0moriginal_observation\u001b[0m\u001b[0;34m,\u001b[0m \u001b[0maction\u001b[0m\u001b[0;34m,\u001b[0m \u001b[0mreward\u001b[0m\u001b[0;34m,\u001b[0m \u001b[0mnext_observation\u001b[0m\u001b[0;34m,\u001b[0m \u001b[0mplayer\u001b[0m\u001b[0;34m]\u001b[0m\u001b[0;34m)\u001b[0m\u001b[0;34m\u001b[0m\u001b[0;34m\u001b[0m\u001b[0m\n\u001b[1;32m      5\u001b[0m \u001b[0;34m\u001b[0m\u001b[0m\n",
      "\u001b[0;31mNameError\u001b[0m: name 'env' is not defined"
     ]
    }
   ],
   "source": [
    "memory = np.array([])\n",
    "\n",
    "next_observation, player_turn, reward, is_terminal_state = env.step(action)\n",
    "memory.append([original_observation, action, reward, next_observation, player])\n",
    "\n",
    "if (len(memory) == memory_size + 1) or (is_terminal_state):\n",
    "    # shift reward, state, done, and assign 1 for my round and 2 for the opponent round\n",
    "    memory_for_training = process_memory(memory, is_terminal_state)\n",
    "    if is_terminal_state:\n",
    "        memory = np.array([])\n",
    "    else:\n",
    "        memory = memory[-1]\n",
    "        \n",
    "    agent.learn(memory_for_training)"
   ]
  },
  {
   "cell_type": "code",
   "execution_count": null,
   "metadata": {},
   "outputs": [],
   "source": [
    "# main flow\n",
    "\n",
    "load_weight_path = 'dummy_path'\n",
    "model_weight_path = 'dummy_path'\n",
    "\n",
    "env = make_env()\n",
    "bot1 = Bot(load_weight_path)\n",
    "bot2 = Bot()\n",
    "bot_list = [bot1, bot2]\n",
    "unprocess_memory = np.array([])\n",
    "\n",
    "num_episode = 10\n",
    "\n",
    "\n",
    "for episode in range(num_episode):\n",
    "    env.reset()\n",
    "    \n",
    "    # get initial state\n",
    "    observation, player_turn, reward, is_terminal_state = env.get_current_info()\n",
    "    \n",
    "    while not is_terminal_state:\n",
    "        # if now is player 2's turn, swap the observation\n",
    "        if player_turn == 2:\n",
    "            swapped_observation = swap_observation_view(observation)\n",
    "            action = bot_list[player_turn-1].select_action(swapped_observation)\n",
    "        elif player_turn == 1:\n",
    "            action = bot_list[player_turn-1].select_action(observation)\n",
    "        else:\n",
    "            print('Error in player turn. Current player turn is %s.\\n' % player_turn)\n",
    "        \n",
    "        next_observation, next_player_turn, reward, is_terminal_state = env.step(action)\n",
    "        \n",
    "        unprocess_memory.append([observation, action, reward, next_observation, player_turn])\n",
    "        \n",
    "        if (len(unprocess_memory) == memory_size + 1) or (is_terminal_state):\n",
    "            # shift reward, state, done, and assign 1 for my round and 2 for the opponent round\n",
    "            memory_for_training = process_memory(unprocess_memory, is_terminal_state)\n",
    "            if is_terminal_state:\n",
    "                unprocess_memory = np.array([])\n",
    "            else:\n",
    "                unprocess_memory = unprocess_memory[-1]\n",
    "\n",
    "            bot1.learn(memory_for_training)\n",
    "            \n",
    "        observation, player_turn = next_observation, next_player_turn\n",
    "        \n",
    "    # save the model weight periodically\n",
    "    if (episode + 1) % 50 == 0:\n",
    "        bot1.save_weight(model_weight_path)"
   ]
  },
  {
   "cell_type": "code",
   "execution_count": null,
   "metadata": {},
   "outputs": [],
   "source": [
    "class Bot():\n",
    "    def __init__(self, load_weight_path=None):\n",
    "        self.observation['board'] = np.zeros([9, 3])\n",
    "        self.observation['1p_inventory'] = np.array([2, 2, 2])\n",
    "        self.observation['2p_inventory'] = np.array([2, 2, 2])\n",
    "                \n",
    "        self.model = self.build_model()\n",
    "        if load_weight_path is not None:\n",
    "            self.model = self.load_weight()\n",
    "        \n",
    "        self\n",
    "        pass\n",
    "    \n",
    "    def build_model(self):\n",
    "        pass\n",
    "    \n",
    "    def load_model(self):\n",
    "        pass\n",
    "    \n",
    "    def choose_action(self, observation):\n",
    "        pass"
   ]
  },
  {
   "cell_type": "code",
   "execution_count": null,
   "metadata": {},
   "outputs": [],
   "source": [
    "bot1 = Bot()\n",
    "bot2 = Bot()\n",
    "\n",
    "player_list = [bot1, bot2]\n",
    "save_list = []\n",
    "\n",
    "for episode in range(100):\n",
    "    # reset environment\n",
    "    env.reset()\n",
    "    \n",
    "    # start from the 1st player\n",
    "    player_turn = 1\n",
    "    observation = env.observation\n",
    "    while game not end:\n",
    "        action = player_list[state['player_turn']].pick_action(observation)\n",
    "        \n",
    "        # if the action is not valid, the program will be break      \n",
    "        state, next_observation, reward = env.step(action)\n",
    "        \n",
    "        save_list.append([observation, action, next_observation, reward])\n",
    "        observation = next_observation\n",
    "        \n",
    "\n",
    "        \n",
    "        "
   ]
  },
  {
   "cell_type": "code",
   "execution_count": 4,
   "metadata": {},
   "outputs": [
    {
     "data": {
      "text/plain": [
       "array([0., 0., 0.])"
      ]
     },
     "execution_count": 4,
     "metadata": {},
     "output_type": "execute_result"
    }
   ],
   "source": [
    "board = np.zeros([9, 3])\n",
    "np.zeros(3)"
   ]
  },
  {
   "cell_type": "code",
   "execution_count": 6,
   "metadata": {},
   "outputs": [],
   "source": [
    "temp = np.array([1,2,3,4,5,6,7,8,9])"
   ]
  },
  {
   "cell_type": "code",
   "execution_count": 8,
   "metadata": {},
   "outputs": [
    {
     "data": {
      "text/plain": [
       "array([2, 4, 6])"
      ]
     },
     "execution_count": 8,
     "metadata": {},
     "output_type": "execute_result"
    }
   ],
   "source": []
  },
  {
   "cell_type": "code",
   "execution_count": 9,
   "metadata": {},
   "outputs": [
    {
     "name": "stdout",
     "output_type": "stream",
     "text": [
      "Hi\n"
     ]
    }
   ],
   "source": [
    "if not None:\n",
    "    print('Hi')"
   ]
  },
  {
   "cell_type": "code",
   "execution_count": null,
   "metadata": {},
   "outputs": [],
   "source": []
  }
 ],
 "metadata": {
  "kernelspec": {
   "display_name": "Python 3",
   "language": "python",
   "name": "python3"
  },
  "language_info": {
   "codemirror_mode": {
    "name": "ipython",
    "version": 3
   },
   "file_extension": ".py",
   "mimetype": "text/x-python",
   "name": "python",
   "nbconvert_exporter": "python",
   "pygments_lexer": "ipython3",
   "version": "3.7.3"
  }
 },
 "nbformat": 4,
 "nbformat_minor": 2
}

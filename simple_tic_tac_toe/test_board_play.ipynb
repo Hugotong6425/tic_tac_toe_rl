{
 "cells": [
  {
   "cell_type": "code",
   "execution_count": 1,
   "metadata": {},
   "outputs": [
    {
     "name": "stderr",
     "output_type": "stream",
     "text": [
      "Using TensorFlow backend.\n"
     ]
    }
   ],
   "source": [
    "from py_files.board import Board\n",
    "from py_files.player import Q_player, Random_player, Human"
   ]
  },
  {
   "cell_type": "code",
   "execution_count": 20,
   "metadata": {},
   "outputs": [],
   "source": [
    "p1_config = {'player_type': 'q_player'}\n",
    "p2_config = {'player_type': 'q_player'}\n",
    "win_reward = 1\n",
    "lose_reward = -1\n",
    "draw_reward = 0\n",
    "\n",
    "test_board = Board(p1_config=p1_config, p2_config=p2_config, \n",
    "                   win_reward=win_reward, lose_reward=lose_reward, \n",
    "                   draw_reward=draw_reward)"
   ]
  },
  {
   "cell_type": "code",
   "execution_count": 19,
   "metadata": {
    "scrolled": true
   },
   "outputs": [
    {
     "name": "stdout",
     "output_type": "stream",
     "text": [
      "\n",
      "--------------------------------------------------\n",
      "\n",
      "current_player: 1 \n",
      "\n",
      "Board:\n",
      "\n",
      "  |   |  \n",
      "---------\n",
      "  |   |  \n",
      "---------\n",
      "  |   |  \n",
      "\n",
      "is_terminal_state: \n",
      "False\n",
      "\n",
      "--------------------------------------------------\n",
      "\n",
      "current_player: -1 \n",
      "\n",
      "Board:\n",
      "\n",
      "X |   |  \n",
      "---------\n",
      "  |   |  \n",
      "---------\n",
      "  |   |  \n",
      "\n",
      "is_terminal_state: \n",
      "False\n",
      "\n",
      "--------------------------------------------------\n",
      "\n",
      "current_player: 1 \n",
      "\n",
      "Board:\n",
      "\n",
      "X |   | O\n",
      "---------\n",
      "  |   |  \n",
      "---------\n",
      "  |   |  \n",
      "\n",
      "is_terminal_state: \n",
      "False\n",
      "\n",
      "--------------------------------------------------\n",
      "\n",
      "current_player: -1 \n",
      "\n",
      "Board:\n",
      "\n",
      "X |   | O\n",
      "---------\n",
      "  |   |  \n",
      "---------\n",
      "  |   | X\n",
      "\n",
      "is_terminal_state: \n",
      "False\n",
      "\n",
      "--------------------------------------------------\n",
      "\n",
      "current_player: 1 \n",
      "\n",
      "Board:\n",
      "\n",
      "X |   | O\n",
      "---------\n",
      "  |   |  \n",
      "---------\n",
      "O |   | X\n",
      "\n",
      "is_terminal_state: \n",
      "False\n",
      "\n",
      "--------------------------------------------------\n",
      "\n",
      "current_player: -1 \n",
      "\n",
      "Board:\n",
      "\n",
      "X |   | O\n",
      "---------\n",
      "  | X |  \n",
      "---------\n",
      "O |   | X\n",
      "\n",
      "is_terminal_state: \n",
      "True\n",
      "\n",
      "Game Over!\n"
     ]
    }
   ],
   "source": [
    "test_board.play()"
   ]
  },
  {
   "cell_type": "code",
   "execution_count": null,
   "metadata": {},
   "outputs": [],
   "source": [
    "import time\n",
    "for i in range(100):\n",
    "    time.sleep(0.1)\n",
    "    print(i,end='\\r')"
   ]
  },
  {
   "cell_type": "code",
   "execution_count": null,
   "metadata": {},
   "outputs": [],
   "source": []
  }
 ],
 "metadata": {
  "kernelspec": {
   "display_name": "Python 3",
   "language": "python",
   "name": "python3"
  },
  "language_info": {
   "codemirror_mode": {
    "name": "ipython",
    "version": 3
   },
   "file_extension": ".py",
   "mimetype": "text/x-python",
   "name": "python",
   "nbconvert_exporter": "python",
   "pygments_lexer": "ipython3",
   "version": "3.7.3"
  }
 },
 "nbformat": 4,
 "nbformat_minor": 2
}

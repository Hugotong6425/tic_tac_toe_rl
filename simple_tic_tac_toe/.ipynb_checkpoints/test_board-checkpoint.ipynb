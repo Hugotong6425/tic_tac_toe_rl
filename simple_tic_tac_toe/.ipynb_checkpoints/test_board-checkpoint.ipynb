{
 "cells": [
  {
   "cell_type": "code",
   "execution_count": 12,
   "metadata": {},
   "outputs": [
    {
     "name": "stdout",
     "output_type": "stream",
     "text": [
      "The autoreload extension is already loaded. To reload it, use:\n",
      "  %reload_ext autoreload\n"
     ]
    }
   ],
   "source": [
    "%load_ext autoreload\n",
    "%autoreload 2\n",
    "\n"
   ]
  },
  {
   "cell_type": "code",
   "execution_count": 16,
   "metadata": {},
   "outputs": [
    {
     "ename": "TypeError",
     "evalue": "'int' object is not subscriptable",
     "output_type": "error",
     "traceback": [
      "\u001b[0;31m---------------------------------------------------------------------------\u001b[0m",
      "\u001b[0;31mTypeError\u001b[0m                                 Traceback (most recent call last)",
      "\u001b[0;32m<ipython-input-16-06c949d78a6f>\u001b[0m in \u001b[0;36m<module>\u001b[0;34m\u001b[0m\n\u001b[1;32m      5\u001b[0m \u001b[0mdraw_reward\u001b[0m \u001b[0;34m=\u001b[0m \u001b[0;36m0\u001b[0m\u001b[0;34m\u001b[0m\u001b[0;34m\u001b[0m\u001b[0m\n\u001b[1;32m      6\u001b[0m \u001b[0;34m\u001b[0m\u001b[0m\n\u001b[0;32m----> 7\u001b[0;31m \u001b[0mtest_board\u001b[0m \u001b[0;34m=\u001b[0m \u001b[0mBoard\u001b[0m\u001b[0;34m(\u001b[0m\u001b[0mwin_reward\u001b[0m\u001b[0;34m,\u001b[0m \u001b[0mlose_reward\u001b[0m\u001b[0;34m,\u001b[0m \u001b[0mdraw_reward\u001b[0m\u001b[0;34m)\u001b[0m\u001b[0;34m\u001b[0m\u001b[0;34m\u001b[0m\u001b[0m\n\u001b[0m",
      "\u001b[0;32m~/Desktop/self_learning/tic_tac_toe_rl/simple_tic_tac_toe/py_files/board_with_player_interaction.py\u001b[0m in \u001b[0;36m__init__\u001b[0;34m(self, p1_config, p2_config, win_reward, lose_reward, draw_reward)\u001b[0m\n\u001b[1;32m     15\u001b[0m     '''\n\u001b[1;32m     16\u001b[0m     \u001b[0;32mdef\u001b[0m \u001b[0m__init__\u001b[0m\u001b[0;34m(\u001b[0m\u001b[0mself\u001b[0m\u001b[0;34m,\u001b[0m \u001b[0mp1_config\u001b[0m\u001b[0;34m=\u001b[0m\u001b[0;32mNone\u001b[0m\u001b[0;34m,\u001b[0m \u001b[0mp2_config\u001b[0m\u001b[0;34m=\u001b[0m\u001b[0;32mNone\u001b[0m\u001b[0;34m,\u001b[0m \u001b[0mwin_reward\u001b[0m\u001b[0;34m=\u001b[0m\u001b[0;36m1\u001b[0m\u001b[0;34m,\u001b[0m \u001b[0mlose_reward\u001b[0m\u001b[0;34m=\u001b[0m\u001b[0;34m-\u001b[0m\u001b[0;36m1\u001b[0m\u001b[0;34m,\u001b[0m \u001b[0mdraw_reward\u001b[0m\u001b[0;34m=\u001b[0m\u001b[0;36m0\u001b[0m\u001b[0;34m)\u001b[0m\u001b[0;34m:\u001b[0m\u001b[0;34m\u001b[0m\u001b[0;34m\u001b[0m\u001b[0m\n\u001b[0;32m---> 17\u001b[0;31m         \u001b[0mself\u001b[0m\u001b[0;34m.\u001b[0m\u001b[0mset_up_p1\u001b[0m\u001b[0;34m(\u001b[0m\u001b[0mp1_config\u001b[0m\u001b[0;34m)\u001b[0m\u001b[0;34m\u001b[0m\u001b[0;34m\u001b[0m\u001b[0m\n\u001b[0m\u001b[1;32m     18\u001b[0m         \u001b[0mself\u001b[0m\u001b[0;34m.\u001b[0m\u001b[0mset_up_p2\u001b[0m\u001b[0;34m(\u001b[0m\u001b[0mp2_config\u001b[0m\u001b[0;34m)\u001b[0m\u001b[0;34m\u001b[0m\u001b[0;34m\u001b[0m\u001b[0m\n\u001b[1;32m     19\u001b[0m         \u001b[0mself\u001b[0m\u001b[0;34m.\u001b[0m\u001b[0mwin_reward\u001b[0m \u001b[0;34m=\u001b[0m \u001b[0mwin_reward\u001b[0m\u001b[0;34m\u001b[0m\u001b[0;34m\u001b[0m\u001b[0m\n",
      "\u001b[0;32m~/Desktop/self_learning/tic_tac_toe_rl/simple_tic_tac_toe/py_files/board_with_player_interaction.py\u001b[0m in \u001b[0;36mset_up_p1\u001b[0;34m(self, p1_config)\u001b[0m\n\u001b[1;32m     26\u001b[0m             \u001b[0mself\u001b[0m\u001b[0;34m.\u001b[0m\u001b[0mp1\u001b[0m \u001b[0;34m=\u001b[0m \u001b[0;32mNone\u001b[0m\u001b[0;34m\u001b[0m\u001b[0;34m\u001b[0m\u001b[0m\n\u001b[1;32m     27\u001b[0m         \u001b[0;32melse\u001b[0m\u001b[0;34m:\u001b[0m\u001b[0;34m\u001b[0m\u001b[0;34m\u001b[0m\u001b[0m\n\u001b[0;32m---> 28\u001b[0;31m             \u001b[0mplayer_type\u001b[0m \u001b[0;34m=\u001b[0m \u001b[0mp1_config\u001b[0m\u001b[0;34m[\u001b[0m\u001b[0;34m'player_type'\u001b[0m\u001b[0;34m]\u001b[0m\u001b[0;34m\u001b[0m\u001b[0;34m\u001b[0m\u001b[0m\n\u001b[0m\u001b[1;32m     29\u001b[0m             \u001b[0;32mif\u001b[0m \u001b[0mplayer_type\u001b[0m \u001b[0;34m==\u001b[0m \u001b[0;34m'human'\u001b[0m\u001b[0;34m:\u001b[0m\u001b[0;34m\u001b[0m\u001b[0;34m\u001b[0m\u001b[0m\n\u001b[1;32m     30\u001b[0m                 \u001b[0mself\u001b[0m\u001b[0;34m.\u001b[0m\u001b[0mp1\u001b[0m \u001b[0;34m=\u001b[0m \u001b[0mHuman\u001b[0m\u001b[0;34m(\u001b[0m\u001b[0;34m)\u001b[0m\u001b[0;34m\u001b[0m\u001b[0;34m\u001b[0m\u001b[0m\n",
      "\u001b[0;31mTypeError\u001b[0m: 'int' object is not subscriptable"
     ]
    }
   ],
   "source": [
    "from py_files.board_with_player_interaction import Board\n",
    "\n",
    "p1_config = {'player_type': 'human'}\n",
    "p2_config = {'player_type': 'human'}\n",
    "win_reward = 1\n",
    "lose_reward = -1\n",
    "draw_reward = 0\n",
    "\n",
    "test_board = Board(p1_config=p1_config, p2_config=p2_config, \n",
    "                   win_reward=win_reward, lose_reward=lose_reward, \n",
    "                   draw_reward=draw_reward)"
   ]
  },
  {
   "cell_type": "code",
   "execution_count": 14,
   "metadata": {},
   "outputs": [
    {
     "name": "stdout",
     "output_type": "stream",
     "text": [
      "Board:\n",
      "\n",
      "  |   |  \n",
      "---------\n",
      "  |   |  \n",
      "---------\n",
      "  |   |  \n"
     ]
    },
    {
     "data": {
      "text/plain": [
       "True"
      ]
     },
     "execution_count": 14,
     "metadata": {},
     "output_type": "execute_result"
    }
   ],
   "source": [
    "test_board.print_board()"
   ]
  },
  {
   "cell_type": "code",
   "execution_count": 4,
   "metadata": {},
   "outputs": [],
   "source": [
    "active_player = test_board.get_active_player_id()"
   ]
  },
  {
   "cell_type": "code",
   "execution_count": 5,
   "metadata": {},
   "outputs": [
    {
     "data": {
      "text/plain": [
       "1"
      ]
     },
     "execution_count": 5,
     "metadata": {},
     "output_type": "execute_result"
    }
   ],
   "source": [
    "active_player"
   ]
  },
  {
   "cell_type": "code",
   "execution_count": 6,
   "metadata": {},
   "outputs": [
    {
     "name": "stdout",
     "output_type": "stream",
     "text": [
      "Board:\n",
      "\n",
      "O |   |  \n",
      "---------\n",
      "  |   |  \n",
      "---------\n",
      "  |   |  \n",
      "\n",
      "reward: \n",
      "[0, 0]\n",
      "\n",
      "is_terminal_state: \n",
      "False\n",
      "\n",
      "current_player: -1\n",
      "\n"
     ]
    }
   ],
   "source": [
    "new_observation, reward, is_terminal_state = test_board.step(action=0)\n",
    "test_board.print_board()\n",
    "#print('new_observation: \\n%s' % new_observation)\n",
    "print('\\nreward: \\n%s\\n' % reward)\n",
    "print('is_terminal_state: \\n%s\\n' % is_terminal_state)\n",
    "print('current_player: %s\\n' % test_board.get_active_player_id())"
   ]
  },
  {
   "cell_type": "code",
   "execution_count": 7,
   "metadata": {},
   "outputs": [
    {
     "name": "stdout",
     "output_type": "stream",
     "text": [
      "Board:\n",
      "\n",
      "O |   |  \n",
      "---------\n",
      "X |   |  \n",
      "---------\n",
      "  |   |  \n",
      "\n",
      "reward: \n",
      "[0, 0]\n",
      "\n",
      "is_terminal_state: \n",
      "False\n",
      "\n",
      "current_player: 1\n",
      "\n"
     ]
    }
   ],
   "source": [
    "new_observation, reward, is_terminal_state = test_board.step(action=3)\n",
    "test_board.print_board()\n",
    "print('\\nreward: \\n%s\\n' % reward)\n",
    "print('is_terminal_state: \\n%s\\n' % is_terminal_state)\n",
    "print('current_player: %s\\n' % test_board.get_active_player_id())"
   ]
  },
  {
   "cell_type": "code",
   "execution_count": 8,
   "metadata": {},
   "outputs": [
    {
     "name": "stdout",
     "output_type": "stream",
     "text": [
      "Board:\n",
      "\n",
      "O | O |  \n",
      "---------\n",
      "X |   |  \n",
      "---------\n",
      "  |   |  \n",
      "\n",
      "reward: \n",
      "[0, 0]\n",
      "\n",
      "is_terminal_state: \n",
      "False\n",
      "\n",
      "current_player: -1\n",
      "\n"
     ]
    }
   ],
   "source": [
    "new_observation, reward, is_terminal_state = test_board.step(action=1)\n",
    "test_board.print_board()\n",
    "print('\\nreward: \\n%s\\n' % reward)\n",
    "print('is_terminal_state: \\n%s\\n' % is_terminal_state)\n",
    "print('current_player: %s\\n' % test_board.get_active_player_id())"
   ]
  },
  {
   "cell_type": "code",
   "execution_count": 9,
   "metadata": {},
   "outputs": [
    {
     "name": "stdout",
     "output_type": "stream",
     "text": [
      "Board:\n",
      "\n",
      "O | O |  \n",
      "---------\n",
      "X |   |  \n",
      "---------\n",
      "X |   |  \n",
      "\n",
      "reward: \n",
      "[0, 0]\n",
      "\n",
      "is_terminal_state: \n",
      "False\n",
      "\n",
      "current_player: 1\n",
      "\n"
     ]
    }
   ],
   "source": [
    "new_observation, reward, is_terminal_state = test_board.step(action=6)\n",
    "test_board.print_board()\n",
    "print('\\nreward: \\n%s\\n' % reward)\n",
    "print('is_terminal_state: \\n%s\\n' % is_terminal_state)\n",
    "print('current_player: %s\\n' % test_board.get_active_player_id())"
   ]
  },
  {
   "cell_type": "code",
   "execution_count": 10,
   "metadata": {},
   "outputs": [
    {
     "name": "stdout",
     "output_type": "stream",
     "text": [
      "Board:\n",
      "\n",
      "O | O | O\n",
      "---------\n",
      "X |   |  \n",
      "---------\n",
      "X |   |  \n",
      "\n",
      "reward: \n",
      "[1, -1]\n",
      "\n",
      "is_terminal_state: \n",
      "True\n",
      "\n",
      "current_player: -1\n",
      "\n"
     ]
    }
   ],
   "source": [
    "new_observation, reward, is_terminal_state = test_board.step(action=2)\n",
    "test_board.print_board()\n",
    "print('\\nreward: \\n%s\\n' % reward)\n",
    "print('is_terminal_state: \\n%s\\n' % is_terminal_state)\n",
    "print('current_player: %s\\n' % test_board.get_active_player_id())"
   ]
  },
  {
   "cell_type": "code",
   "execution_count": 11,
   "metadata": {},
   "outputs": [
    {
     "name": "stdout",
     "output_type": "stream",
     "text": [
      "Board:\n",
      "\n",
      "  |   |  \n",
      "---------\n",
      "  |   |  \n",
      "---------\n",
      "  |   |  \n"
     ]
    },
    {
     "data": {
      "text/plain": [
       "True"
      ]
     },
     "execution_count": 11,
     "metadata": {},
     "output_type": "execute_result"
    }
   ],
   "source": [
    "test_board.reset()\n",
    "test_board.print_board()"
   ]
  },
  {
   "cell_type": "code",
   "execution_count": null,
   "metadata": {},
   "outputs": [],
   "source": []
  }
 ],
 "metadata": {
  "kernelspec": {
   "display_name": "Python 3",
   "language": "python",
   "name": "python3"
  },
  "language_info": {
   "codemirror_mode": {
    "name": "ipython",
    "version": 3
   },
   "file_extension": ".py",
   "mimetype": "text/x-python",
   "name": "python",
   "nbconvert_exporter": "python",
   "pygments_lexer": "ipython3",
   "version": "3.7.3"
  }
 },
 "nbformat": 4,
 "nbformat_minor": 2
}

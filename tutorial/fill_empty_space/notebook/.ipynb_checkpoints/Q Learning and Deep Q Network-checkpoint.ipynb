{
 "cells": [
  {
   "cell_type": "code",
   "execution_count": 2,
   "metadata": {},
   "outputs": [],
   "source": [
    "import random\n",
    "import numpy as np\n",
    "import pandas as pd\n",
    "import tensorflow as tf\n",
    "#import matplotlib.pyplot as plt\n",
    "from collections import deque\n",
    "from time import time"
   ]
  },
  {
   "cell_type": "code",
   "execution_count": 3,
   "metadata": {},
   "outputs": [
    {
     "name": "stdout",
     "output_type": "stream",
     "text": [
      "Seed: 1546847731\n"
     ]
    }
   ],
   "source": [
    "seed = 1546847731  # or try a new seed by using: seed = int(time())\n",
    "random.seed(seed)\n",
    "print('Seed: {}'.format(seed))"
   ]
  },
  {
   "cell_type": "markdown",
   "metadata": {},
   "source": [
    "\n",
    "### Game design\n",
    "The game the Q-agents will need to learn is made of a board with 4 cells. The agent will receive a +1 reward every time it fills a vacant cell, and will receive a -1 penalty when it tries to fill an already filled cell. Game ends when the board is full."
   ]
  },
  {
   "cell_type": "code",
   "execution_count": 4,
   "metadata": {},
   "outputs": [],
   "source": [
    "class Game:\n",
    "    board = None\n",
    "    board_size = 0\n",
    "    \n",
    "    def __init__(self, board_size=4):\n",
    "        self.board_size = board_size\n",
    "        self.reset()\n",
    "    \n",
    "    def reset(self):\n",
    "        self.board = np.zeros(self.board_size)\n",
    "    \n",
    "    def play(self, cell):\n",
    "        # returns a tuple: (reward, game_over?)\n",
    "        if self.board[cell] == 0:\n",
    "            self.board[cell] = 1\n",
    "            game_over = len(np.where(self.board == 0)[0]) == 0\n",
    "            return (1,game_over)\n",
    "        else:\n",
    "            return (-1,False)"
   ]
  },
  {
   "cell_type": "code",
   "execution_count": 6,
   "metadata": {},
   "outputs": [
    {
     "name": "stdout",
     "output_type": "stream",
     "text": [
      "All possible states:\n",
      "[0, 0, 0, 0]\n",
      "[0, 0, 0, 1]\n",
      "[0, 0, 1, 0]\n",
      "[0, 0, 1, 1]\n",
      "[0, 1, 0, 0]\n",
      "[0, 1, 0, 1]\n",
      "[0, 1, 1, 0]\n",
      "[0, 1, 1, 1]\n",
      "[1, 0, 0, 0]\n",
      "[1, 0, 0, 1]\n",
      "[1, 0, 1, 0]\n",
      "[1, 0, 1, 1]\n",
      "[1, 1, 0, 0]\n",
      "[1, 1, 0, 1]\n",
      "[1, 1, 1, 0]\n",
      "[1, 1, 1, 1]\n"
     ]
    }
   ],
   "source": [
    "def state_to_str(state):\n",
    "    return str(list(map(int,state.tolist())))\n",
    "\n",
    "all_states = list()\n",
    "for i in range(2):\n",
    "    for j in range(2):\n",
    "        for k in range(2):\n",
    "            for l in range(2):\n",
    "                s = np.array([i,j,k,l])\n",
    "                all_states.append(state_to_str(s))\n",
    "                \n",
    "print('All possible states:')\n",
    "for s in all_states:\n",
    "    print(s)"
   ]
  },
  {
   "cell_type": "code",
   "execution_count": 7,
   "metadata": {},
   "outputs": [],
   "source": [
    "game = Game()"
   ]
  },
  {
   "cell_type": "markdown",
   "metadata": {},
   "source": [
    "### Q Learning\n",
    "Starting of with a table-based Q-learning algorithm."
   ]
  },
  {
   "cell_type": "code",
   "execution_count": 8,
   "metadata": {},
   "outputs": [],
   "source": [
    "num_of_games = 2000\n",
    "epsilon = 0.1\n",
    "gamma = 1"
   ]
  },
  {
   "cell_type": "code",
   "execution_count": 9,
   "metadata": {},
   "outputs": [],
   "source": [
    "# Initializing the Q-table\n",
    "q_table = pd.DataFrame(0, index=np.arange(4), columns=all_states)"
   ]
  },
  {
   "cell_type": "code",
   "execution_count": 10,
   "metadata": {},
   "outputs": [
    {
     "data": {
      "text/html": [
       "<div>\n",
       "<style scoped>\n",
       "    .dataframe tbody tr th:only-of-type {\n",
       "        vertical-align: middle;\n",
       "    }\n",
       "\n",
       "    .dataframe tbody tr th {\n",
       "        vertical-align: top;\n",
       "    }\n",
       "\n",
       "    .dataframe thead th {\n",
       "        text-align: right;\n",
       "    }\n",
       "</style>\n",
       "<table border=\"1\" class=\"dataframe\">\n",
       "  <thead>\n",
       "    <tr style=\"text-align: right;\">\n",
       "      <th></th>\n",
       "      <th>[0, 0, 0, 0]</th>\n",
       "      <th>[0, 0, 0, 1]</th>\n",
       "      <th>[0, 0, 1, 0]</th>\n",
       "      <th>[0, 0, 1, 1]</th>\n",
       "      <th>[0, 1, 0, 0]</th>\n",
       "      <th>[0, 1, 0, 1]</th>\n",
       "      <th>[0, 1, 1, 0]</th>\n",
       "      <th>[0, 1, 1, 1]</th>\n",
       "      <th>[1, 0, 0, 0]</th>\n",
       "      <th>[1, 0, 0, 1]</th>\n",
       "      <th>[1, 0, 1, 0]</th>\n",
       "      <th>[1, 0, 1, 1]</th>\n",
       "      <th>[1, 1, 0, 0]</th>\n",
       "      <th>[1, 1, 0, 1]</th>\n",
       "      <th>[1, 1, 1, 0]</th>\n",
       "      <th>[1, 1, 1, 1]</th>\n",
       "    </tr>\n",
       "  </thead>\n",
       "  <tbody>\n",
       "    <tr>\n",
       "      <th>0</th>\n",
       "      <td>4</td>\n",
       "      <td>3</td>\n",
       "      <td>3</td>\n",
       "      <td>2</td>\n",
       "      <td>3</td>\n",
       "      <td>2</td>\n",
       "      <td>2</td>\n",
       "      <td>0</td>\n",
       "      <td>2</td>\n",
       "      <td>1</td>\n",
       "      <td>1</td>\n",
       "      <td>-1</td>\n",
       "      <td>1</td>\n",
       "      <td>0</td>\n",
       "      <td>0</td>\n",
       "      <td>0</td>\n",
       "    </tr>\n",
       "    <tr>\n",
       "      <th>1</th>\n",
       "      <td>4</td>\n",
       "      <td>1</td>\n",
       "      <td>0</td>\n",
       "      <td>0</td>\n",
       "      <td>0</td>\n",
       "      <td>0</td>\n",
       "      <td>0</td>\n",
       "      <td>0</td>\n",
       "      <td>3</td>\n",
       "      <td>2</td>\n",
       "      <td>2</td>\n",
       "      <td>1</td>\n",
       "      <td>1</td>\n",
       "      <td>0</td>\n",
       "      <td>0</td>\n",
       "      <td>0</td>\n",
       "    </tr>\n",
       "    <tr>\n",
       "      <th>2</th>\n",
       "      <td>4</td>\n",
       "      <td>3</td>\n",
       "      <td>2</td>\n",
       "      <td>0</td>\n",
       "      <td>3</td>\n",
       "      <td>0</td>\n",
       "      <td>-1</td>\n",
       "      <td>0</td>\n",
       "      <td>3</td>\n",
       "      <td>2</td>\n",
       "      <td>1</td>\n",
       "      <td>0</td>\n",
       "      <td>2</td>\n",
       "      <td>1</td>\n",
       "      <td>0</td>\n",
       "      <td>0</td>\n",
       "    </tr>\n",
       "    <tr>\n",
       "      <th>3</th>\n",
       "      <td>4</td>\n",
       "      <td>2</td>\n",
       "      <td>3</td>\n",
       "      <td>0</td>\n",
       "      <td>0</td>\n",
       "      <td>0</td>\n",
       "      <td>0</td>\n",
       "      <td>0</td>\n",
       "      <td>3</td>\n",
       "      <td>0</td>\n",
       "      <td>2</td>\n",
       "      <td>0</td>\n",
       "      <td>2</td>\n",
       "      <td>0</td>\n",
       "      <td>1</td>\n",
       "      <td>0</td>\n",
       "    </tr>\n",
       "  </tbody>\n",
       "</table>\n",
       "</div>"
      ],
      "text/plain": [
       "   [0, 0, 0, 0]  [0, 0, 0, 1]  [0, 0, 1, 0]  [0, 0, 1, 1]  [0, 1, 0, 0]  \\\n",
       "0             4             3             3             2             3   \n",
       "1             4             1             0             0             0   \n",
       "2             4             3             2             0             3   \n",
       "3             4             2             3             0             0   \n",
       "\n",
       "   [0, 1, 0, 1]  [0, 1, 1, 0]  [0, 1, 1, 1]  [1, 0, 0, 0]  [1, 0, 0, 1]  \\\n",
       "0             2             2             0             2             1   \n",
       "1             0             0             0             3             2   \n",
       "2             0            -1             0             3             2   \n",
       "3             0             0             0             3             0   \n",
       "\n",
       "   [1, 0, 1, 0]  [1, 0, 1, 1]  [1, 1, 0, 0]  [1, 1, 0, 1]  [1, 1, 1, 0]  \\\n",
       "0             1            -1             1             0             0   \n",
       "1             2             1             1             0             0   \n",
       "2             1             0             2             1             0   \n",
       "3             2             0             2             0             1   \n",
       "\n",
       "   [1, 1, 1, 1]  \n",
       "0             0  \n",
       "1             0  \n",
       "2             0  \n",
       "3             0  "
      ]
     },
     "execution_count": 10,
     "metadata": {},
     "output_type": "execute_result"
    }
   ],
   "source": [
    "#Letting the agent play and learn:\n",
    "\n",
    "r_list = []  # store the total reward of each game so we can plot it later\n",
    "\n",
    "for g in range(num_of_games):\n",
    "    game_over = False\n",
    "    game.reset()\n",
    "    total_reward = 0\n",
    "    while not game_over:\n",
    "        state = np.copy(game.board)\n",
    "        if random.random() < epsilon:\n",
    "            action = random.randint(0,3)\n",
    "        else:\n",
    "            action = q_table[state_to_str(state)].idxmax()\n",
    "        reward, game_over = game.play(action)\n",
    "        total_reward += reward\n",
    "        if np.sum(game.board) == 4:  # terminal state\n",
    "            next_state_max_q_value = 0\n",
    "        else:\n",
    "            next_state = np.copy(game.board)\n",
    "            next_state_max_q_value = q_table[state_to_str(next_state)].max()\n",
    "        q_table.loc[action,state_to_str(state)] = reward + gamma * next_state_max_q_value\n",
    "    r_list.append(total_reward)\n",
    "    \n",
    "    \n",
    "q_table"
   ]
  },
  {
   "cell_type": "code",
   "execution_count": 11,
   "metadata": {},
   "outputs": [
    {
     "name": "stdout",
     "output_type": "stream",
     "text": [
      "board: [0 0 0 0]\tpredicted Q values: [4, 4, 4, 4] \tbest action: 0\tcorrect action? True\n",
      "board: [0 0 0 1]\tpredicted Q values: [3, 1, 3, 2] \tbest action: 0\tcorrect action? True\n",
      "board: [0 0 1 0]\tpredicted Q values: [3, 0, 2, 3] \tbest action: 0\tcorrect action? True\n",
      "board: [0 0 1 1]\tpredicted Q values: [2, 0, 0, 0] \tbest action: 0\tcorrect action? True\n",
      "board: [0 1 0 0]\tpredicted Q values: [3, 0, 3, 0] \tbest action: 0\tcorrect action? True\n",
      "board: [0 1 0 1]\tpredicted Q values: [2, 0, 0, 0] \tbest action: 0\tcorrect action? True\n",
      "board: [0 1 1 0]\tpredicted Q values: [2, 0, -1, 0] \tbest action: 0\tcorrect action? True\n",
      "board: [0 1 1 1]\tpredicted Q values: [0, 0, 0, 0] \tbest action: 0\tcorrect action? True\n",
      "board: [1 0 0 0]\tpredicted Q values: [2, 3, 3, 3] \tbest action: 1\tcorrect action? True\n",
      "board: [1 0 0 1]\tpredicted Q values: [1, 2, 2, 0] \tbest action: 1\tcorrect action? True\n",
      "board: [1 0 1 0]\tpredicted Q values: [1, 2, 1, 2] \tbest action: 1\tcorrect action? True\n",
      "board: [1 0 1 1]\tpredicted Q values: [-1, 1, 0, 0] \tbest action: 1\tcorrect action? True\n",
      "board: [1 1 0 0]\tpredicted Q values: [1, 1, 2, 2] \tbest action: 2\tcorrect action? True\n",
      "board: [1 1 0 1]\tpredicted Q values: [0, 0, 1, 0] \tbest action: 2\tcorrect action? True\n",
      "board: [1 1 1 0]\tpredicted Q values: [0, 0, 0, 1] \tbest action: 3\tcorrect action? True\n"
     ]
    }
   ],
   "source": [
    "# Let's verify that the agent indeed learned a correct startegy by seeing what action it will choose in each one of the possible states:\n",
    "for i in range(2):\n",
    "    for j in range(2):\n",
    "        for k in range(2):\n",
    "            for l in range(2):\n",
    "                b = np.array([i,j,k,l])\n",
    "                if len(np.where(b == 0)[0]) != 0:\n",
    "                    action = q_table[state_to_str(b)].idxmax()\n",
    "                    pred = q_table[state_to_str(b)].tolist()\n",
    "                    print('board: {b}\\tpredicted Q values: {p} \\tbest action: {a}\\tcorrect action? {s}'\n",
    "                          .format(b=b,p=pred,a=action,s=b[action]==0))"
   ]
  },
  {
   "cell_type": "code",
   "execution_count": null,
   "metadata": {},
   "outputs": [],
   "source": []
  }
 ],
 "metadata": {
  "kernelspec": {
   "display_name": "Python 3",
   "language": "python",
   "name": "python3"
  },
  "language_info": {
   "codemirror_mode": {
    "name": "ipython",
    "version": 3
   },
   "file_extension": ".py",
   "mimetype": "text/x-python",
   "name": "python",
   "nbconvert_exporter": "python",
   "pygments_lexer": "ipython3",
   "version": "3.5.5"
  }
 },
 "nbformat": 4,
 "nbformat_minor": 2
}
